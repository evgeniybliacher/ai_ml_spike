{
 "cells": [
  {
   "cell_type": "markdown",
   "id": "d0834e9f",
   "metadata": {},
   "source": [
    "\n",
    "Dotenv is a zero-dependency module that loads environment variables from a .env file into process.env. Storing configuration in the environment separate from code is based on The Twelve-Factor App methodology."
   ]
  },
  {
   "cell_type": "markdown",
   "id": "b1cfc9ce",
   "metadata": {},
   "source": [
    "## 🌱 Install\n",
    "\n",
    "```bash\n",
    "npm install dotenv --save\n",
    "```\n",
    "\n",
    "You can also use an npm-compatible package manager like yarn, bun or pnpm:\n",
    "\n",
    "```bash\n",
    "yarn add dotenv\n",
    "```\n",
    "```bash\n",
    "bun add dotenv\n",
    "```\n",
    "```bash\n",
    "pnpm add dotenv\n",
    "```"
   ]
  },
  {
   "cell_type": "markdown",
   "id": "65746559",
   "metadata": {},
   "source": [
    "## 🏗️ Usage: Read into envirnment variables\n",
    "To help you with that, you can add python-dotenv to your application to make it load the configuration from a .env file when it is present (e.g. in development) while remaining configurable via the environment:"
   ]
  },
  {
   "cell_type": "code",
   "execution_count": 2,
   "id": "e119317b",
   "metadata": {},
   "outputs": [
    {
     "name": "stdout",
     "output_type": "stream",
     "text": [
      "Environment variables loaded successfully.\n",
      "example.org\n"
     ]
    }
   ],
   "source": [
    "from dotenv import load_dotenv\n",
    "import os\n",
    "load_dotenv()  # take environment variables\n",
    "\n",
    "print(\"Environment variables loaded successfully.\")\n",
    "print(os.environ.get(\"DOMAIN\", \"Default value if not set\"))"
   ]
  },
  {
   "cell_type": "markdown",
   "id": "b4837d64",
   "metadata": {},
   "source": [
    "If you use variables in values, ensure they are surrounded with { and }, like ${DOMAIN}, as bare variables such as $DOMAIN are not expanded.\n",
    "\n",
    "You will probably want to add .env to your .gitignore, especially if it contains secrets like a password.\n",
    "\n",
    "See the section \"File format\" below for more information about what you can write in a .env file."
   ]
  },
  {
   "cell_type": "code",
   "execution_count": 3,
   "id": "2c473cb2",
   "metadata": {},
   "outputs": [
    {
     "name": "stdout",
     "output_type": "stream",
     "text": [
      "admin@example.org\n"
     ]
    }
   ],
   "source": [
    "print(os.environ.get(\"ADMIN_EMAIL\", \"Default admin email if not set\"))"
   ]
  },
  {
   "cell_type": "markdown",
   "id": "f87176be",
   "metadata": {},
   "source": [
    "## 🏗️ Usage: Load configuration without altering the environment\n",
    "To help you with that, you can add python-dotenv to your application to make it load the configuration from a .env file when it is present (e.g. in development) while remaining configurable via the environment:The function dotenv_values works more or less the same way as load_dotenv, except it doesn't touch the environment, it just returns a dict with the values parsed from the .env file."
   ]
  },
  {
   "cell_type": "code",
   "execution_count": 4,
   "id": "bcdb35e5",
   "metadata": {},
   "outputs": [
    {
     "name": "stdout",
     "output_type": "stream",
     "text": [
      "Config loaded from .env file:\n",
      "DOMAIN: example.org\n",
      "ADMIN_EMAIL: admin@example.org\n",
      "ROOT_URL: example.org/app\n"
     ]
    }
   ],
   "source": [
    "from dotenv import dotenv_values\n",
    "\n",
    "config = dotenv_values(\".env\")\n",
    "\n",
    "print(\"Config loaded from .env file:\")\n",
    "for key, value in config.items():\n",
    "    print(f\"{key}: {value}\")"
   ]
  },
  {
   "cell_type": "code",
   "execution_count": 5,
   "id": "010afb9c",
   "metadata": {},
   "outputs": [
    {
     "name": "stdout",
     "output_type": "stream",
     "text": [
      "Combined configuration:\n",
      "SHARED: ../shared\n",
      "SECRET: MySuperSecret\n",
      "ALLUSERSPROFILE: C:\\ProgramData\n",
      "APPDATA: C:\\Users\\ebliacher.CORPORATE\\AppData\\Roaming\n",
      "CHROME_CRASHPAD_PIPE_NAME: \\\\.\\pipe\\crashpad_20192_PLDZRSDPQMUBFLLP\n",
      "CLINK_DIR: C:\\Program Files (x86)\\clink\n",
      "COMMONPROGRAMFILES: C:\\Program Files\\Common Files\n",
      "COMMONPROGRAMFILES(X86): C:\\Program Files (x86)\\Common Files\n",
      "COMMONPROGRAMW6432: C:\\Program Files\\Common Files\n",
      "COMPUTERNAME: PF4RGLTY\n",
      "COMSPEC: C:\\WINDOWS\\system32\\cmd.exe\n",
      "DRIVERDATA: C:\\Windows\\System32\\Drivers\\DriverData\n",
      "EFC_11924_1592913036: 1\n",
      "ELECTRON_RUN_AS_NODE: 1\n",
      "HOMEDRIVE: C:\n",
      "HOMEPATH: \\Users\\ebliacher.CORPORATE\n",
      "IGCCSVC_DB: AQAAANCMnd8BFdERjHoAwE/Cl+sBAAAAyicXmcSYZUmWD2QZ+nhKgQQAAAACAAAAAAAQZgAAAAEAACAAAAAYL7k2+QEsAEQHqVHg6bImMfbIo4ChauvGYtuBhnGjgQAAAAAOgAAAAAIAACAAAADhAuj5W43JfgXSBv1cf9GRUg+5ahg/anJBdkYUiqc8QWAAAADGl2ETtkrUqYnaupF0Iejs7hxleWLWcy0vWlbg1MLeReHMV91YqCg+qYYOzeVfzNg3wuTWoUghxZHiJjLhUfOLaz5uzsL14MEEqDwcTAagwLgTTV/h/bXH9NXo39ExhPFAAAAAV+9S8H+p92Te3HcQNEp0tMP27fKukYLNAy1SjuJQLJ5AHQqX4YY2AYV40GCHtOjD4YqSN5wooyxyq8Px04bNiw==\n",
      "JPY_INTERRUPT_EVENT: 1828\n",
      "LOCALAPPDATA: C:\\Users\\ebliacher.CORPORATE\\AppData\\Local\n",
      "LOGONSERVER: \\\\DC1-CORPDC01\n",
      "NUMBER_OF_PROCESSORS: 12\n",
      "ONEDRIVE: C:\\Users\\ebliacher.CORPORATE\\OneDrive - Allscripts Healthcare, LLC\n",
      "ONEDRIVECOMMERCIAL: C:\\Users\\ebliacher.CORPORATE\\OneDrive - Allscripts Healthcare, LLC\n",
      "ORIGINAL_XDG_CURRENT_DESKTOP: undefined\n",
      "OS: Windows_NT\n",
      "PATH: c:\\Program Files\\Python312;c:\\Users\\ebliacher.CORPORATE\\AppData\\Roaming\\Python\\Python312\\Scripts;C:\\Program Files\\Common Files\\Oracle\\Java\\javapath;C:\\Program Files (x86)\\Common Files\\Oracle\\Java\\java8path;C:\\Program Files (x86)\\Common Files\\Oracle\\Java\\javapath;C:\\Program Files\\Python312\\Scripts\\;C:\\Program Files\\Python312\\;C:\\Windows\\system32;C:\\Windows;C:\\Windows\\System32\\Wbem;C:\\Windows\\System32\\WindowsPowerShell\\v1.0\\;C:\\Windows\\System32\\OpenSSH\\;C:\\Program Files\\Microsoft SQL Server\\150\\Tools\\Binn\\;C:\\Users\\EBLIACHER\\AppData\\Roaming\\Python\\Scripts;C:\\Program Files (x86)\\Microsoft SQL Server\\160\\DTS\\Binn\\;C:\\Program Files\\Microsoft SQL Server\\Client SDK\\ODBC\\170\\Tools\\Binn\\;C:\\Program Files\\dotnet\\;C:\\Program Files\\Gated Client;C:\\Program Files\\TortoiseGit\\bin;C:\\WINDOWS\\system32;C:\\WINDOWS;C:\\WINDOWS\\System32\\Wbem;C:\\WINDOWS\\System32\\WindowsPowerShell\\v1.0\\;C:\\WINDOWS\\System32\\OpenSSH\\;C:\\Program Files\\Neovim\\bin;C:\\Program Files\\Microsoft Visual Studio\\2022\\Professional\\MSBuild\\Current\\Bin;C:\\Program Files\\Git\\cmd;C:\\Program Files\\Docker\\Docker\\resources\\bin;C:\\Program Files\\nodejs\\;C:\\Program Files\\PowerShell\\7\\;C:\\Users\\ebliacher.CORPORATE\\.local\\bin;C:\\Users\\ebliacher.CORPORATE\\.pyenv\\pyenv-win\\bin;C:\\Users\\ebliacher.CORPORATE\\.pyenv\\pyenv-win\\shims;C:\\Users\\ebliacher.CORPORATE\\AppData\\Local\\Microsoft\\WindowsApps;C:\\Users\\ebliacher.CORPORATE\\.dotnet\\tools;C:\\Users\\ebliacher.CORPORATE\\AppData\\Local\\Programs\\oh-my-posh\\bin;C:\\Users\\ebliacher.CORPORATE\\.dotnet\\tools;C:\\Users\\ebliacher.CORPORATE\\AppData\\Local\\Microsoft\\WindowsApps;C:\\Users\\ebliacher.CORPORATE\\AppData\\Local\\JetBrains\\Toolbox\\scripts;C:\\Users\\ebliacher.CORPORATE\\.dotnet\\tools;C:\\Users\\ebliacher.CORPORATE\\AppData\\Local\\Programs\\Microsoft VS Code\\bin;C:\\Users\\ebliacher.CORPORATE\\AppData\\Roaming\\npm;C:\\Program Files\\Common Files\\Oracle\\Java\\javapath;C:\\Program Files (x86)\\Common Files\\Oracle\\Java\\java8path;C:\\Program Files (x86)\\Common Files\\Oracle\\Java\\javapath;C:\\Program Files\\Python312\\Scripts\\;C:\\Program Files\\Python312\\;C:\\Windows\\system32;C:\\Windows;C:\\Windows\\System32\\Wbem;C:\\Windows\\System32\\WindowsPowerShell\\v1.0\\;C:\\Windows\\System32\\OpenSSH\\;C:\\Program Files\\Microsoft SQL Server\\150\\Tools\\Binn\\;C:\\Users\\EBLIACHER\\AppData\\Roaming\\Python\\Scripts;C:\\Program Files (x86)\\Microsoft SQL Server\\160\\DTS\\Binn\\;C:\\Program Files\\Microsoft SQL Server\\Client SDK\\ODBC\\170\\Tools\\Binn\\;C:\\Program Files\\dotnet\\;C:\\Program Files\\Gated Client;C:\\Program Files\\TortoiseGit\\bin;C:\\WINDOWS\\system32;C:\\WINDOWS;C:\\WINDOWS\\System32\\Wbem;C:\\WINDOWS\\System32\\WindowsPowerShell\\v1.0\\;C:\\WINDOWS\\System32\\OpenSSH\\;C:\\Program Files\\Neovim\\bin;C:\\Program Files\\Microsoft Visual Studio\\2022\\Professional\\MSBuild\\Current\\Bin;C:\\Program Files\\Git\\cmd;C:\\Program Files\\Docker\\Docker\\resources\\bin;C:\\Program Files\\nodejs\\;C:\\Program Files\\PowerShell\\7\\;C:\\Users\\ebliacher.CORPORATE\\.local\\bin;C:\\Users\\ebliacher.CORPORATE\\.pyenv\\pyenv-win\\bin;C:\\Users\\ebliacher.CORPORATE\\.pyenv\\pyenv-win\\shims;C:\\Users\\ebliacher.CORPORATE\\AppData\\Local\\Microsoft\\WindowsApps;C:\\Users\\ebliacher.CORPORATE\\.dotnet\\tools;C:\\Users\\ebliacher.CORPORATE\\AppData\\Local\\Programs\\oh-my-posh\\bin;C:\\Users\\ebliacher.CORPORATE\\.dotnet\\tools;C:\\Users\\ebliacher.CORPORATE\\AppData\\Local\\Microsoft\\WindowsApps;C:\\Users\\ebliacher.CORPORATE\\AppData\\Local\\JetBrains\\Toolbox\\scripts;C:\\Users\\ebliacher.CORPORATE\\.dotnet\\tools;C:\\Users\\ebliacher.CORPORATE\\AppData\\Local\\Programs\\Microsoft VS Code\\bin;C:\\Users\\ebliacher.CORPORATE\\AppData\\Roaming\\npm\n",
      "PATHEXT: .COM;.EXE;.BAT;.CMD;.VBS;.VBE;.JS;.JSE;.WSF;.WSH;.MSC;.PY;.PYW\n",
      "POSH_INSTALLER: winget\n",
      "POSH_THEMES_PATH: C:\\Users\\ebliacher.CORPORATE\\AppData\\Local\\Programs\\oh-my-posh\\themes\n",
      "POWERSHELL_DISTRIBUTION_CHANNEL: MSI:Windows 10 Pro\n",
      "PROCESSOR_ARCHITECTURE: AMD64\n",
      "PROCESSOR_IDENTIFIER: Intel64 Family 6 Model 186 Stepping 3, GenuineIntel\n",
      "PROCESSOR_LEVEL: 6\n",
      "PROCESSOR_REVISION: ba03\n",
      "PROGRAMDATA: C:\\ProgramData\n",
      "PROGRAMFILES: C:\\Program Files\n",
      "PROGRAMFILES(X86): C:\\Program Files (x86)\n",
      "PROGRAMW6432: C:\\Program Files\n",
      "PSMODULEPATH: C:\\Program Files\\WindowsPowerShell\\Modules;C:\\WINDOWS\\system32\\WindowsPowerShell\\v1.0\\Modules\n",
      "PUBLIC: C:\\Users\\Public\n",
      "PYDEVD_IPYTHON_COMPATIBLE_DEBUGGING: 1\n",
      "PYENV: C:\\Users\\ebliacher.CORPORATE\\.pyenv\\pyenv-win\\\n",
      "PYENV_HOME: C:\\Users\\ebliacher.CORPORATE\\.pyenv\\pyenv-win\\\n",
      "PYENV_ROOT: C:\\Users\\ebliacher.CORPORATE\\.pyenv\\pyenv-win\\\n",
      "PYTHONIOENCODING: utf-8\n",
      "PYTHONUNBUFFERED: 1\n",
      "PYTHON_FROZEN_MODULES: on\n",
      "SESSIONNAME: Console\n",
      "SYSTEMDRIVE: C:\n",
      "SYSTEMROOT: C:\\WINDOWS\n",
      "TEMP: C:\\Users\\EBLIAC~1.COR\\AppData\\Local\\Temp\n",
      "TMP: C:\\Users\\EBLIAC~1.COR\\AppData\\Local\\Temp\n",
      "USERDNSDOMAIN: CORP.ALLSCRIPTS.COM\n",
      "USERDOMAIN: CORPORATE\n",
      "USERDOMAIN_ROAMINGPROFILE: CORPORATE\n",
      "USERNAME: EBLIACHER\n",
      "USERPROFILE: C:\\Users\\ebliacher.CORPORATE\n",
      "VS140COMNTOOLS: C:\\Program Files (x86)\\Microsoft Visual Studio 14.0\\Common7\\Tools\\\n",
      "VSCODE_CODE_CACHE_PATH: C:\\Users\\ebliacher.CORPORATE\\AppData\\Roaming\\Code\\CachedData\\848b80aeb52026648a8ff9f7c45a9b0a80641e2e\n",
      "VSCODE_CRASH_REPORTER_PROCESS_TYPE: extensionHost\n",
      "VSCODE_CWD: C:\\WINDOWS\\system32\n",
      "VSCODE_DOTNET_INSTALL_TOOL_ORIGINAL_HOME: undefined\n",
      "VSCODE_ESM_ENTRYPOINT: vs/workbench/api/node/extensionHostProcess\n",
      "VSCODE_HANDLES_UNCAUGHT_ERRORS: true\n",
      "VSCODE_IPC_HOOK: \\\\.\\pipe\\a80e278e-1.100.2-main-sock\n",
      "VSCODE_L10N_BUNDLE_LOCATION: \n",
      "VSCODE_NLS_CONFIG: {\"userLocale\":\"en-us\",\"osLocale\":\"en-us\",\"resolvedLanguage\":\"en\",\"defaultMessagesFile\":\"C:\\\\Users\\\\ebliacher.CORPORATE\\\\AppData\\\\Local\\\\Programs\\\\Microsoft VS Code\\\\resources\\\\app\\\\out\\\\nls.messages.json\",\"locale\":\"en-us\",\"availableLanguages\":{}}\n",
      "VSCODE_PID: 20192\n",
      "WINDIR: C:\\WINDOWS\n",
      "WIX: C:\\Program Files (x86)\\WiX Toolset v3.11\\\n",
      "ZES_ENABLE_SYSMAN: 1\n",
      "PYDEVD_USE_FRAME_EVAL: NO\n",
      "TERM: xterm-color\n",
      "CLICOLOR: 1\n",
      "FORCE_COLOR: 1\n",
      "CLICOLOR_FORCE: 1\n",
      "PAGER: cat\n",
      "GIT_PAGER: cat\n",
      "MPLBACKEND: module://matplotlib_inline.backend_inline\n",
      "S3_BUCKET: YOURS3BUCKET\n",
      "SECRET_KEY: YOURSECRETKEYGOESHERE\n",
      "DOMAIN: example.org\n",
      "ADMIN_EMAIL: admin@example.org\n",
      "ROOT_URL: example.org/app\n"
     ]
    }
   ],
   "source": [
    "import os\n",
    "from dotenv import dotenv_values\n",
    "\n",
    "config = {\n",
    "    **dotenv_values(\".env.shared\"),  # load shared development variables\n",
    "    **dotenv_values(\".env.secret\"),  # load sensitive variables\n",
    "    **os.environ,  # override loaded values with environment variables\n",
    "}\n",
    "\n",
    "print(\"Combined configuration:\")\n",
    "for key, value in config.items():\n",
    "    print(f\"{key}: {value}\")"
   ]
  }
 ],
 "metadata": {
  "kernelspec": {
   "display_name": "Python 3",
   "language": "python",
   "name": "python3"
  },
  "language_info": {
   "codemirror_mode": {
    "name": "ipython",
    "version": 3
   },
   "file_extension": ".py",
   "mimetype": "text/x-python",
   "name": "python",
   "nbconvert_exporter": "python",
   "pygments_lexer": "ipython3",
   "version": "3.12.5"
  }
 },
 "nbformat": 4,
 "nbformat_minor": 5
}
